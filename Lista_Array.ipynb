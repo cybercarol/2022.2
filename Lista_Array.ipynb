{
  "nbformat": 4,
  "nbformat_minor": 0,
  "metadata": {
    "colab": {
      "provenance": []
    },
    "kernelspec": {
      "name": "python3",
      "display_name": "Python 3"
    },
    "language_info": {
      "name": "python"
    }
  },
  "cells": [
    {
      "cell_type": "code",
      "source": [
        "tamAtual = 0\n",
        "tamMax = 100"
      ],
      "metadata": {
        "id": "S_m2Pp7gZEvg"
      },
      "execution_count": 55,
      "outputs": []
    },
    {
      "cell_type": "code",
      "execution_count": 56,
      "metadata": {
        "id": "D9xI31ZzY1d6"
      },
      "outputs": [],
      "source": [
        "#Criação da lista vazia\n",
        "lista = []"
      ]
    },
    {
      "cell_type": "code",
      "source": [
        "#Verificar se a lista está vazia\n",
        "len(lista) == 0"
      ],
      "metadata": {
        "colab": {
          "base_uri": "https://localhost:8080/"
        },
        "id": "5i7zfDW2ZDgB",
        "outputId": "eed3c6ba-53ab-4945-cd88-644731f3ad9b"
      },
      "execution_count": 57,
      "outputs": [
        {
          "output_type": "execute_result",
          "data": {
            "text/plain": [
              "True"
            ]
          },
          "metadata": {},
          "execution_count": 57
        }
      ]
    },
    {
      "cell_type": "code",
      "source": [
        "#Verificar se a lista está cheia\n",
        "len(lista) == tamMax"
      ],
      "metadata": {
        "colab": {
          "base_uri": "https://localhost:8080/"
        },
        "id": "9kEiGbaBbTKZ",
        "outputId": "71a163c8-bc1d-402c-825a-8d5283eb3eec"
      },
      "execution_count": 58,
      "outputs": [
        {
          "output_type": "execute_result",
          "data": {
            "text/plain": [
              "False"
            ]
          },
          "metadata": {},
          "execution_count": 58
        }
      ]
    },
    {
      "cell_type": "code",
      "source": [
        "#Obter o tamanho da lista\n",
        "\n",
        "tamAtual = len(lista)\n",
        "tamAtual"
      ],
      "metadata": {
        "colab": {
          "base_uri": "https://localhost:8080/"
        },
        "id": "I3IHQsuFbmrC",
        "outputId": "c6c26da2-69c5-46be-843e-d3bd5ae68572"
      },
      "execution_count": 73,
      "outputs": [
        {
          "output_type": "execute_result",
          "data": {
            "text/plain": [
              "0"
            ]
          },
          "metadata": {},
          "execution_count": 73
        }
      ]
    },
    {
      "cell_type": "code",
      "source": [
        "#Obter/modificar o valor do elemento de uma determinada posição na lista\n",
        "\n",
        "def modLista(lista, posf, newele):\n",
        "  pos = 0\n",
        "  n = False\n",
        "\n",
        "  while n == False:\n",
        "\n",
        "    if posf == pos:\n",
        "      lista[pos] = newele\n",
        "      n = True\n",
        "\n",
        "    pos = pos + 1\n",
        "\n",
        "    if pos == len(lista):\n",
        "      n = True\n",
        "      print(\"Essa posição passa o tamanho da lista!\")\n",
        "\n",
        "    \n",
        "\n",
        "  print(lista)"
      ],
      "metadata": {
        "id": "PJGbfSDVb9UR"
      },
      "execution_count": 60,
      "outputs": []
    },
    {
      "cell_type": "code",
      "source": [
        "lista1 = [1, 2, 3]\n",
        "\n",
        "modLista(lista1, 2, 4)"
      ],
      "metadata": {
        "colab": {
          "base_uri": "https://localhost:8080/"
        },
        "id": "ON2cWJBncb-W",
        "outputId": "7e36c1c9-0b68-47a1-a89d-faa5111b24fd"
      },
      "execution_count": 61,
      "outputs": [
        {
          "output_type": "stream",
          "name": "stdout",
          "text": [
            "Essa posição passa o tamanho da lista!\n",
            "[1, 2, 4]\n"
          ]
        }
      ]
    },
    {
      "cell_type": "code",
      "source": [
        "lista2 = [5, 2, 9, 8, 4]\n",
        "\n",
        "modLista(lista2, 9, 1)"
      ],
      "metadata": {
        "colab": {
          "base_uri": "https://localhost:8080/"
        },
        "outputId": "8949cd82-a3bc-4c7d-c1f0-87ea9c251b92",
        "id": "wo1XprXGihVm"
      },
      "execution_count": 62,
      "outputs": [
        {
          "output_type": "stream",
          "name": "stdout",
          "text": [
            "Essa posição passa o tamanho da lista!\n",
            "[5, 2, 9, 8, 4]\n"
          ]
        }
      ]
    },
    {
      "cell_type": "code",
      "source": [
        "# Inserir um elemento em uma determinada posição;\n",
        "\n",
        "def ins_lista(lista, pos, newele):\n",
        "  cont = -1\n",
        "  temp2 = []  #lista temporaria\n",
        "  lista2 = lista  #copia da original\n",
        "\n",
        "  for i in lista:\n",
        "    cont = cont +1\n",
        "\n",
        "    if pos == (len(lista)):\n",
        "      lista.append(newele)\n",
        "      break\n",
        "\n",
        "    elif cont == pos:\n",
        "      temp = lista[pos]\n",
        "      lista[pos] = newele\n",
        "      temp2.append(temp)\n",
        "      lista = lista[0:pos+1]\n",
        "    \n",
        "    elif cont > pos:\n",
        "      temp2.append(lista2[cont])\n",
        "\n",
        "    elif cont == len(lista):\n",
        "      break\n",
        "  \n",
        "  lista = lista + temp2\n",
        "\n",
        "  print(lista)"
      ],
      "metadata": {
        "id": "pPGB7GRsj3V-"
      },
      "execution_count": 63,
      "outputs": []
    },
    {
      "cell_type": "code",
      "source": [
        "#teste inserir no final\n",
        "lista1 = [1, 2, 3]\n",
        "\n",
        "ins_lista(lista1, 3, 4)"
      ],
      "metadata": {
        "colab": {
          "base_uri": "https://localhost:8080/"
        },
        "id": "TgSsvRldKnZ6",
        "outputId": "e9e7754a-8c61-4a32-82ce-66a309459bee"
      },
      "execution_count": 64,
      "outputs": [
        {
          "output_type": "stream",
          "name": "stdout",
          "text": [
            "[1, 2, 3, 4]\n"
          ]
        }
      ]
    },
    {
      "cell_type": "code",
      "source": [
        "#teste inserir no inicio\n",
        "lista2 = [1, 2, 5, 3]\n",
        "\n",
        "ins_lista(lista2, 0, 4)"
      ],
      "metadata": {
        "colab": {
          "base_uri": "https://localhost:8080/"
        },
        "id": "9YOSA4dRO-lr",
        "outputId": "b8e9a583-ba3e-45ec-d13c-9e3b986134a3"
      },
      "execution_count": 65,
      "outputs": [
        {
          "output_type": "stream",
          "name": "stdout",
          "text": [
            "[4, 1, 2, 5, 3]\n"
          ]
        }
      ]
    },
    {
      "cell_type": "code",
      "source": [
        "#teste inserir no meio\n",
        "lista3 = [5, 6, 8, 9, 10]\n",
        "\n",
        "ins_lista(lista3, 2, 7)"
      ],
      "metadata": {
        "colab": {
          "base_uri": "https://localhost:8080/"
        },
        "id": "IIUsehTOQTt7",
        "outputId": "24a63551-4128-4dc1-a7e9-1a7f2fed147c"
      },
      "execution_count": 66,
      "outputs": [
        {
          "output_type": "stream",
          "name": "stdout",
          "text": [
            "[5, 6, 7, 8, 9, 10]\n"
          ]
        }
      ]
    },
    {
      "cell_type": "code",
      "source": [
        "#teste invalido\n",
        "lista3 = [5, 6, 8, 9, 10]\n",
        "\n",
        "ins_lista(lista3, 6, 7)"
      ],
      "metadata": {
        "colab": {
          "base_uri": "https://localhost:8080/"
        },
        "id": "JzkV6LYSRvdQ",
        "outputId": "a6c29b8d-6448-4b20-de65-9cf3fd8d4cd4"
      },
      "execution_count": 67,
      "outputs": [
        {
          "output_type": "stream",
          "name": "stdout",
          "text": [
            "[5, 6, 8, 9, 10]\n"
          ]
        }
      ]
    },
    {
      "cell_type": "code",
      "source": [
        "# Retirar um elemento de uma determinada posição.\n",
        "\n",
        "def del_lista(lista, pos):\n",
        "  cont = -1\n",
        "\n",
        "  for i in lista:\n",
        "    cont = cont + 1\n",
        "\n",
        "    if pos >= (len(lista)):\n",
        "      print(\"Tamanho incorreto\")\n",
        "      break\n",
        "\n",
        "    elif cont == pos:\n",
        "      lista.remove(lista[cont])\n",
        "\n",
        "    elif cont == len(lista):\n",
        "      break\n",
        "  \n",
        "\n",
        "  print(lista)"
      ],
      "metadata": {
        "id": "gUPK76a0Qia3"
      },
      "execution_count": 68,
      "outputs": []
    },
    {
      "cell_type": "code",
      "source": [
        "#teste remover no final\n",
        "lista1 = [1, 2, 3, 10]\n",
        "\n",
        "del_lista(lista1, 3)"
      ],
      "metadata": {
        "colab": {
          "base_uri": "https://localhost:8080/"
        },
        "outputId": "46d4cb49-0c3b-451f-d76c-ad6cf73f85a2",
        "id": "tPZlA8SORKbD"
      },
      "execution_count": 69,
      "outputs": [
        {
          "output_type": "stream",
          "name": "stdout",
          "text": [
            "[1, 2, 3]\n"
          ]
        }
      ]
    },
    {
      "cell_type": "code",
      "source": [
        "#teste remover no inicio\n",
        "lista2 = [1, 2, 5, 3]\n",
        "\n",
        "del_lista(lista2, 0)"
      ],
      "metadata": {
        "colab": {
          "base_uri": "https://localhost:8080/"
        },
        "outputId": "d6300809-e012-49f2-e78d-2d17798fe666",
        "id": "f-tc3iseRKbH"
      },
      "execution_count": 70,
      "outputs": [
        {
          "output_type": "stream",
          "name": "stdout",
          "text": [
            "[2, 5, 3]\n"
          ]
        }
      ]
    },
    {
      "cell_type": "code",
      "source": [
        "#teste remover no meio\n",
        "lista3 = [5, 6, 8, 5, 10]\n",
        "\n",
        "del_lista(lista3, 2)"
      ],
      "metadata": {
        "colab": {
          "base_uri": "https://localhost:8080/"
        },
        "outputId": "285a0174-0710-448a-de62-28e5666019cd",
        "id": "lOVEw0qZRKbM"
      },
      "execution_count": 71,
      "outputs": [
        {
          "output_type": "stream",
          "name": "stdout",
          "text": [
            "[5, 6, 5, 10]\n"
          ]
        }
      ]
    },
    {
      "cell_type": "code",
      "source": [
        "#teste invalido\n",
        "lista3 = [5, 6, 8, 5, 10]\n",
        "\n",
        "del_lista(lista3, 6)"
      ],
      "metadata": {
        "colab": {
          "base_uri": "https://localhost:8080/"
        },
        "outputId": "7c5a3052-9fd9-405c-85af-100ebfd47ff3",
        "id": "z4ZrUmoARmM1"
      },
      "execution_count": 72,
      "outputs": [
        {
          "output_type": "stream",
          "name": "stdout",
          "text": [
            "Tamanho incorreto\n",
            "[5, 6, 8, 5, 10]\n"
          ]
        }
      ]
    }
  ]
}